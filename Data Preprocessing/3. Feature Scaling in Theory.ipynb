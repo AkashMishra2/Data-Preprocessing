{
 "cells": [
  {
   "cell_type": "markdown",
   "id": "2044e132-84a7-456b-bc49-e3d4af1194ce",
   "metadata": {},
   "source": [
    "## Feature scaling"
   ]
  },
  {
   "cell_type": "raw",
   "id": "afb4fd51-ace5-4763-a641-7aca3b695439",
   "metadata": {},
   "source": [
    "Feature   in below example we have information of \"height of male in feet\" , \"height of female in CM\" and \"Life Span in              year\" all these are nothing but feature.\n",
    "\n",
    "Scaling   is nothing but a range in example we have \"scale of male height 0.0 - 8.5\", \"scale of female height 0 - 170\"\n",
    "          \"Life span in year 0 - 41\"\n",
    "\n",
    "Example\n",
    "\n",
    "Male Height       Female Height      Life Span\n",
    "in feet            in CM              in year\n",
    "\n",
    "8.0                 150                30\n",
    "8.5                 165                40\n",
    "7.9                 170                36\n",
    "8.2                 140                41"
   ]
  },
  {
   "cell_type": "raw",
   "id": "646f78d9-8698-49f0-ac80-389eafdb5fcd",
   "metadata": {},
   "source": [
    "Feature scaling \n",
    "\n",
    "we have different different units in raw data \" Example one column consist of data in centimeters and anoter column consist of data in feets  ie. 140 cm and 8.4 feets clearly 8.4 feets > 140 cm but according to the machine learning algorithm         140 cm > 8.4 feets \" thats why feature scaling becomes more important\n",
    "\n",
    "It is a last step in data preprocessing and before ML model training. it is also known as data normalization\n",
    "we apply feature scaling on independent variables.\n",
    "we fit feature scaling with train data and transform on train and test data."
   ]
  },
  {
   "cell_type": "markdown",
   "id": "2b8fa1fc-bb12-4625-b1eb-5897fc722af7",
   "metadata": {},
   "source": [
    "## Which ML Algorithms Required Feature Scaling"
   ]
  },
  {
   "cell_type": "raw",
   "id": "e6a1424c-d173-4dd4-ba7a-a609a447ed87",
   "metadata": {},
   "source": [
    "o Those Algorithms Calculate Distance\n",
    "    1. K-Nearest Neighbor (KNN)\n",
    "    2. K-Means\n",
    "    3. Support Vector Machine (SVM)\n",
    "    4. Principal Component Analysis(PCA)\n",
    "    5. Linear Discrimiant Analysis\n",
    "\n",
    "o Gradient Descent Based Algomithms\n",
    "    1. Linear Regression\n",
    "    2. Logistic Regression  \n",
    "    3. Neural  Network\n",
    "\n",
    "Those Algorithms are uneffictive without Feature Scaling \n",
    "\n",
    "o Tree Based Algorithms \n",
    "    1. Decision Tree ,Random Forest, XGBoost\n",
    "    \n"
   ]
  },
  {
   "cell_type": "raw",
   "id": "5b9a5b43-eab6-450c-8819-28bcf35c1208",
   "metadata": {},
   "source": [
    "Types of Feature Scaling \n",
    "\n",
    "    1. Min Max Scaler(Normalization)   --------> Mostlye we use\n",
    "    2. Standard Scaler(Standardization)  --------> Mostlye we use\n",
    "    3. Max Abs Scaler\n",
    "    4. Robust Scaler\n",
    "    5. Ouantile Transform Scaler\n",
    "    6. Power Tranform Scaler\n",
    "    7. Unit Vextor Scaler\n"
   ]
  }
 ],
 "metadata": {
  "kernelspec": {
   "display_name": "Python 3 (ipykernel)",
   "language": "python",
   "name": "python3"
  },
  "language_info": {
   "codemirror_mode": {
    "name": "ipython",
    "version": 3
   },
   "file_extension": ".py",
   "mimetype": "text/x-python",
   "name": "python",
   "nbconvert_exporter": "python",
   "pygments_lexer": "ipython3",
   "version": "3.13.0"
  }
 },
 "nbformat": 4,
 "nbformat_minor": 5
}
